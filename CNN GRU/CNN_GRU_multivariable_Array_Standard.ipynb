{
  "nbformat": 4,
  "nbformat_minor": 0,
  "metadata": {
    "colab": {
      "name": "CNN_GRU_multivariable_Array_Standard.ipynb",
      "provenance": [],
      "collapsed_sections": [
        "u7YjZFmlzZVb",
        "oDrNB8PxziO1",
        "m8X9QeEp1JQR",
        "xFyRAKQuJvi2",
        "KKB7Sp7VlUcy"
      ],
      "include_colab_link": true
    },
    "kernelspec": {
      "name": "python3",
      "display_name": "Python 3"
    },
    "language_info": {
      "name": "python"
    },
    "accelerator": "GPU"
  },
  "cells": [
    {
      "cell_type": "markdown",
      "metadata": {
        "id": "view-in-github",
        "colab_type": "text"
      },
      "source": [
        "<a href=\"https://colab.research.google.com/github/alvarojd/SolarForecasting/blob/main/CNN%20GRU/CNN_GRU_multivariable_Array_Standard.ipynb\" target=\"_parent\"><img src=\"https://colab.research.google.com/assets/colab-badge.svg\" alt=\"Open In Colab\"/></a>"
      ]
    },
    {
      "cell_type": "markdown",
      "source": [
        "\n",
        "# **CNN_GRU NN MULTIVARIABLE STANDARD**\n",
        "\n",
        "---\n",
        "\n",
        "\n",
        "> En este notebook se realiza la implementación de la red neuronal mencionada: \n",
        "\n",
        "*   Se parte del preprocesamiento y análisis de los datos que **NO** está incluido en este script.\n",
        "*   Luego se procede a cargar y escalar el dataset previamente procesado.\n",
        "*   Se preparan en ventanas y se separan en set de entrenamiento y validación.\n",
        "*   Luego se implementa el modelo de aprendizaje automatico con una arquitectura e hiperparametros previamente establecidos.\n",
        "*   Por último se validan los resultados y se obtienen las métricas de error.\n",
        "\n",
        "> La diferencia principal de este modelo con los demás CNN_GRU es que se utiliza para escalar los datos la función de sklearn `StandardScaler()` y variables exogenas multiples de entrada al modelo.\n",
        "\n",
        "---\n",
        "\n",
        "**BASE DE DATOS:** KENYA\n"
      ],
      "metadata": {
        "id": "6lmyrt4Ry3VF"
      }
    },
    {
      "cell_type": "markdown",
      "source": [
        "\n",
        "---\n",
        "# 1.   **SE IMPORTAN LAS BIBLIOTECAS NECESARIAS**\n",
        "\n",
        "---"
      ],
      "metadata": {
        "id": "u7YjZFmlzZVb"
      }
    },
    {
      "cell_type": "markdown",
      "source": [
        "  Importamos las librerias necesarias para todo el script: \n",
        "\n",
        "1.   **Matplotlib** para realizar las gráficas\n",
        "2.   **Pandas** para procesar la base de datos\n",
        "3.   **Numpy** para convertir la base de datos en arreglos numéricos\n",
        "4.   **Os** para acceder a los archivos mediante rutas de almacenamiento\n",
        "5.   **Seaborn** para realizar análisis gráficos a los datos mediante análisis estadisticos\n",
        "6.   **Drive** se utiliza para acceder a las carpetas de datos del drive de un correo asociado\n",
        "7.   **Tensorflow** es la librería mediante la cual se generan los modelos de redes neuronales\n",
        "\n"
      ],
      "metadata": {
        "id": "RzoIp1mGCiLe"
      }
    },
    {
      "cell_type": "code",
      "execution_count": null,
      "metadata": {
        "id": "0GAF8Ob1yzQl"
      },
      "outputs": [],
      "source": [
        "import tensorflow as tf\n",
        "import matplotlib as mpl\n",
        "import matplotlib.pyplot as plt\n",
        "import numpy as np\n",
        "import os\n",
        "import pandas as pd\n",
        "import seaborn as sns\n",
        "from google.colab import drive \n",
        "from sklearn.model_selection import train_test_split\n",
        "from sklearn.metrics import mean_squared_error\n",
        "from sklearn.metrics import mean_absolute_error\n",
        "from sklearn.metrics import mean_absolute_percentage_error\n",
        "from sklearn.preprocessing import StandardScaler\n",
        "from sklearn.preprocessing import MinMaxScaler"
      ]
    },
    {
      "cell_type": "code",
      "source": [
        "mpl.rcParams['figure.figsize'] = (8, 6) #Definimos el tamaño para las figuras de matplotlib\n",
        "mpl.rcParams['axes.grid'] = False"
      ],
      "metadata": {
        "id": "uhnHFWGiEou-"
      },
      "execution_count": null,
      "outputs": []
    },
    {
      "cell_type": "markdown",
      "source": [
        "\n",
        "\n",
        "---\n",
        "\n",
        "\n",
        "# 2.   **SE CARGA EL DATASET PREVIAMENTE PROCESADO**\n",
        "\n",
        "---\n",
        "\n",
        "\n"
      ],
      "metadata": {
        "id": "oDrNB8PxziO1"
      }
    },
    {
      "cell_type": "markdown",
      "source": [
        "En la siguiente celda de codigo se llama una función de google colab mediante la cual se accede a la carpeta de drive, luego se define la ruta de acceso a la base de datos previamente procesados para la realización del modelo y se procesa mediante la librería `Pandas`:"
      ],
      "metadata": {
        "id": "Um1FGt7pEry1"
      }
    },
    {
      "cell_type": "code",
      "source": [
        "ruta= 'https://raw.githubusercontent.com/alvarojd/SolarForecasting/main/DATASETS/INICIAL_LIMPIO.csv'\n",
        "ruta='https://raw.githubusercontent.com/alvarojd/SolarForecasting/main/DATASETS/KENYA_LIMPIO.csv'\n",
        "data = pd.read_csv(ruta,encoding='utf-8') # Se hace la respectiva lectura, no se añade encabezado o indice, por lo que pondrá por defecto la numeracion\n",
        "if ruta=='https://raw.githubusercontent.com/alvarojd/SolarForecasting/main/DATASETS/INICIAL_LIMPIO.csv':\n",
        "  data.set_index('datetime', inplace=True)\n",
        "else:\n",
        "  data.set_index('time', inplace=True) # Establecemos cual será el indice del dataframe\n",
        "data.head(2) # Se muestran las 5 primeras filas del dataframe"
      ],
      "metadata": {
        "colab": {
          "base_uri": "https://localhost:8080/",
          "height": 277
        },
        "id": "vVXaUBYm6VIx",
        "outputId": "5370dc66-ac50-4170-a9cf-fd53f5e5e8a8"
      },
      "execution_count": null,
      "outputs": [
        {
          "output_type": "execute_result",
          "data": {
            "text/plain": [
              "                     dhi_pyr  ghi_pyr_1  ghi_pyr_2  air_temperature  \\\n",
              "time                                                                  \n",
              "2019-12-12 00:00:00      0.0        0.0        0.0         22.72500   \n",
              "2019-12-12 00:15:00      0.0        0.0        0.0         22.58083   \n",
              "\n",
              "                     relative_humidity  barometric_pressure  precipitation  \\\n",
              "time                                                                         \n",
              "2019-12-12 00:00:00          99.003998           948.445923            0.0   \n",
              "2019-12-12 00:15:00          98.758003           948.415283            0.0   \n",
              "\n",
              "                     wind_speed  wind_from_direction  gti_clean  gti_soil  \\\n",
              "time                                                                        \n",
              "2019-12-12 00:00:00    1.073283           169.845993        0.0       0.0   \n",
              "2019-12-12 00:15:00    0.727417           204.165405        0.0       0.0   \n",
              "\n",
              "                     gti_monthly  sensor_cleaning  Hour  \n",
              "time                                                     \n",
              "2019-12-12 00:00:00          0.0              0.0     0  \n",
              "2019-12-12 00:15:00          0.0              0.0     0  "
            ],
            "text/html": [
              "\n",
              "  <div id=\"df-5a0bc621-8b2c-4f3a-aff9-37d970884dcb\">\n",
              "    <div class=\"colab-df-container\">\n",
              "      <div>\n",
              "<style scoped>\n",
              "    .dataframe tbody tr th:only-of-type {\n",
              "        vertical-align: middle;\n",
              "    }\n",
              "\n",
              "    .dataframe tbody tr th {\n",
              "        vertical-align: top;\n",
              "    }\n",
              "\n",
              "    .dataframe thead th {\n",
              "        text-align: right;\n",
              "    }\n",
              "</style>\n",
              "<table border=\"1\" class=\"dataframe\">\n",
              "  <thead>\n",
              "    <tr style=\"text-align: right;\">\n",
              "      <th></th>\n",
              "      <th>dhi_pyr</th>\n",
              "      <th>ghi_pyr_1</th>\n",
              "      <th>ghi_pyr_2</th>\n",
              "      <th>air_temperature</th>\n",
              "      <th>relative_humidity</th>\n",
              "      <th>barometric_pressure</th>\n",
              "      <th>precipitation</th>\n",
              "      <th>wind_speed</th>\n",
              "      <th>wind_from_direction</th>\n",
              "      <th>gti_clean</th>\n",
              "      <th>gti_soil</th>\n",
              "      <th>gti_monthly</th>\n",
              "      <th>sensor_cleaning</th>\n",
              "      <th>Hour</th>\n",
              "    </tr>\n",
              "    <tr>\n",
              "      <th>time</th>\n",
              "      <th></th>\n",
              "      <th></th>\n",
              "      <th></th>\n",
              "      <th></th>\n",
              "      <th></th>\n",
              "      <th></th>\n",
              "      <th></th>\n",
              "      <th></th>\n",
              "      <th></th>\n",
              "      <th></th>\n",
              "      <th></th>\n",
              "      <th></th>\n",
              "      <th></th>\n",
              "      <th></th>\n",
              "    </tr>\n",
              "  </thead>\n",
              "  <tbody>\n",
              "    <tr>\n",
              "      <th>2019-12-12 00:00:00</th>\n",
              "      <td>0.0</td>\n",
              "      <td>0.0</td>\n",
              "      <td>0.0</td>\n",
              "      <td>22.72500</td>\n",
              "      <td>99.003998</td>\n",
              "      <td>948.445923</td>\n",
              "      <td>0.0</td>\n",
              "      <td>1.073283</td>\n",
              "      <td>169.845993</td>\n",
              "      <td>0.0</td>\n",
              "      <td>0.0</td>\n",
              "      <td>0.0</td>\n",
              "      <td>0.0</td>\n",
              "      <td>0</td>\n",
              "    </tr>\n",
              "    <tr>\n",
              "      <th>2019-12-12 00:15:00</th>\n",
              "      <td>0.0</td>\n",
              "      <td>0.0</td>\n",
              "      <td>0.0</td>\n",
              "      <td>22.58083</td>\n",
              "      <td>98.758003</td>\n",
              "      <td>948.415283</td>\n",
              "      <td>0.0</td>\n",
              "      <td>0.727417</td>\n",
              "      <td>204.165405</td>\n",
              "      <td>0.0</td>\n",
              "      <td>0.0</td>\n",
              "      <td>0.0</td>\n",
              "      <td>0.0</td>\n",
              "      <td>0</td>\n",
              "    </tr>\n",
              "  </tbody>\n",
              "</table>\n",
              "</div>\n",
              "      <button class=\"colab-df-convert\" onclick=\"convertToInteractive('df-5a0bc621-8b2c-4f3a-aff9-37d970884dcb')\"\n",
              "              title=\"Convert this dataframe to an interactive table.\"\n",
              "              style=\"display:none;\">\n",
              "        \n",
              "  <svg xmlns=\"http://www.w3.org/2000/svg\" height=\"24px\"viewBox=\"0 0 24 24\"\n",
              "       width=\"24px\">\n",
              "    <path d=\"M0 0h24v24H0V0z\" fill=\"none\"/>\n",
              "    <path d=\"M18.56 5.44l.94 2.06.94-2.06 2.06-.94-2.06-.94-.94-2.06-.94 2.06-2.06.94zm-11 1L8.5 8.5l.94-2.06 2.06-.94-2.06-.94L8.5 2.5l-.94 2.06-2.06.94zm10 10l.94 2.06.94-2.06 2.06-.94-2.06-.94-.94-2.06-.94 2.06-2.06.94z\"/><path d=\"M17.41 7.96l-1.37-1.37c-.4-.4-.92-.59-1.43-.59-.52 0-1.04.2-1.43.59L10.3 9.45l-7.72 7.72c-.78.78-.78 2.05 0 2.83L4 21.41c.39.39.9.59 1.41.59.51 0 1.02-.2 1.41-.59l7.78-7.78 2.81-2.81c.8-.78.8-2.07 0-2.86zM5.41 20L4 18.59l7.72-7.72 1.47 1.35L5.41 20z\"/>\n",
              "  </svg>\n",
              "      </button>\n",
              "      \n",
              "  <style>\n",
              "    .colab-df-container {\n",
              "      display:flex;\n",
              "      flex-wrap:wrap;\n",
              "      gap: 12px;\n",
              "    }\n",
              "\n",
              "    .colab-df-convert {\n",
              "      background-color: #E8F0FE;\n",
              "      border: none;\n",
              "      border-radius: 50%;\n",
              "      cursor: pointer;\n",
              "      display: none;\n",
              "      fill: #1967D2;\n",
              "      height: 32px;\n",
              "      padding: 0 0 0 0;\n",
              "      width: 32px;\n",
              "    }\n",
              "\n",
              "    .colab-df-convert:hover {\n",
              "      background-color: #E2EBFA;\n",
              "      box-shadow: 0px 1px 2px rgba(60, 64, 67, 0.3), 0px 1px 3px 1px rgba(60, 64, 67, 0.15);\n",
              "      fill: #174EA6;\n",
              "    }\n",
              "\n",
              "    [theme=dark] .colab-df-convert {\n",
              "      background-color: #3B4455;\n",
              "      fill: #D2E3FC;\n",
              "    }\n",
              "\n",
              "    [theme=dark] .colab-df-convert:hover {\n",
              "      background-color: #434B5C;\n",
              "      box-shadow: 0px 1px 3px 1px rgba(0, 0, 0, 0.15);\n",
              "      filter: drop-shadow(0px 1px 2px rgba(0, 0, 0, 0.3));\n",
              "      fill: #FFFFFF;\n",
              "    }\n",
              "  </style>\n",
              "\n",
              "      <script>\n",
              "        const buttonEl =\n",
              "          document.querySelector('#df-5a0bc621-8b2c-4f3a-aff9-37d970884dcb button.colab-df-convert');\n",
              "        buttonEl.style.display =\n",
              "          google.colab.kernel.accessAllowed ? 'block' : 'none';\n",
              "\n",
              "        async function convertToInteractive(key) {\n",
              "          const element = document.querySelector('#df-5a0bc621-8b2c-4f3a-aff9-37d970884dcb');\n",
              "          const dataTable =\n",
              "            await google.colab.kernel.invokeFunction('convertToInteractive',\n",
              "                                                     [key], {});\n",
              "          if (!dataTable) return;\n",
              "\n",
              "          const docLinkHtml = 'Like what you see? Visit the ' +\n",
              "            '<a target=\"_blank\" href=https://colab.research.google.com/notebooks/data_table.ipynb>data table notebook</a>'\n",
              "            + ' to learn more about interactive tables.';\n",
              "          element.innerHTML = '';\n",
              "          dataTable['output_type'] = 'display_data';\n",
              "          await google.colab.output.renderOutput(dataTable, element);\n",
              "          const docLink = document.createElement('div');\n",
              "          docLink.innerHTML = docLinkHtml;\n",
              "          element.appendChild(docLink);\n",
              "        }\n",
              "      </script>\n",
              "    </div>\n",
              "  </div>\n",
              "  "
            ]
          },
          "metadata": {},
          "execution_count": 21
        }
      ]
    },
    {
      "cell_type": "markdown",
      "source": [
        "\n",
        "\n",
        "---\n",
        "\n",
        "\n",
        "# 3. **SE SELECCIONAN LOS DATOS A UTILIZAR PARA EL ENTRENAMIENTO DEL MODELO**\n",
        "\n",
        "\n",
        "---\n",
        "\n"
      ],
      "metadata": {
        "id": "m8X9QeEp1JQR"
      }
    },
    {
      "cell_type": "code",
      "source": [
        "if ruta=='https://raw.githubusercontent.com/alvarojd/SolarForecasting/main/DATASETS/INICIAL_LIMPIO.csv':\n",
        "  features_considered = ['GHI','Precipitation',\t'DOY','PST','Precipitation', 'Zenith',\t'Humidity'] # Definimos las columnas que se van a utilizar para el entrenamiento del modelo\n",
        "  features = data[features_considered].loc['2010-04-07 00:00:00':] # Creamos un dataframe con solo estos datos\n",
        "else:\n",
        "  features_considered = ['ghi_pyr_1','precipitation','relative_humidity','Hour','wind_speed']\n",
        "  features = data[features_considered] # Creamos un dataframe con solo estos datos\n",
        "features.head() #Se muestran los 5 primeros datos"
      ],
      "metadata": {
        "colab": {
          "base_uri": "https://localhost:8080/"
        },
        "id": "38sLfY8Tyo1E",
        "outputId": "7a4e3c24-40e7-4127-cb55-66439e4c357d"
      },
      "execution_count": null,
      "outputs": [
        {
          "output_type": "execute_result",
          "data": {
            "text/plain": [
              "                     ghi_pyr_1  precipitation  relative_humidity  Hour  \\\n",
              "time                                                                     \n",
              "2019-12-12 00:00:00        0.0            0.0          99.003998     0   \n",
              "2019-12-12 00:15:00        0.0            0.0          98.758003     0   \n",
              "2019-12-12 00:30:00        0.0            0.0          98.003998     0   \n",
              "2019-12-12 00:45:00        0.0            0.0          96.216003     0   \n",
              "2019-12-12 01:00:00        0.0            0.0          97.160004     1   \n",
              "\n",
              "                     wind_speed  \n",
              "time                             \n",
              "2019-12-12 00:00:00    1.073283  \n",
              "2019-12-12 00:15:00    0.727417  \n",
              "2019-12-12 00:30:00    0.415667  \n",
              "2019-12-12 00:45:00    1.380333  \n",
              "2019-12-12 01:00:00    2.620333  "
            ],
            "text/html": [
              "\n",
              "  <div id=\"df-c37eff33-12e3-4cc8-8fb5-6527a86cd753\">\n",
              "    <div class=\"colab-df-container\">\n",
              "      <div>\n",
              "<style scoped>\n",
              "    .dataframe tbody tr th:only-of-type {\n",
              "        vertical-align: middle;\n",
              "    }\n",
              "\n",
              "    .dataframe tbody tr th {\n",
              "        vertical-align: top;\n",
              "    }\n",
              "\n",
              "    .dataframe thead th {\n",
              "        text-align: right;\n",
              "    }\n",
              "</style>\n",
              "<table border=\"1\" class=\"dataframe\">\n",
              "  <thead>\n",
              "    <tr style=\"text-align: right;\">\n",
              "      <th></th>\n",
              "      <th>ghi_pyr_1</th>\n",
              "      <th>precipitation</th>\n",
              "      <th>relative_humidity</th>\n",
              "      <th>Hour</th>\n",
              "      <th>wind_speed</th>\n",
              "    </tr>\n",
              "    <tr>\n",
              "      <th>time</th>\n",
              "      <th></th>\n",
              "      <th></th>\n",
              "      <th></th>\n",
              "      <th></th>\n",
              "      <th></th>\n",
              "    </tr>\n",
              "  </thead>\n",
              "  <tbody>\n",
              "    <tr>\n",
              "      <th>2019-12-12 00:00:00</th>\n",
              "      <td>0.0</td>\n",
              "      <td>0.0</td>\n",
              "      <td>99.003998</td>\n",
              "      <td>0</td>\n",
              "      <td>1.073283</td>\n",
              "    </tr>\n",
              "    <tr>\n",
              "      <th>2019-12-12 00:15:00</th>\n",
              "      <td>0.0</td>\n",
              "      <td>0.0</td>\n",
              "      <td>98.758003</td>\n",
              "      <td>0</td>\n",
              "      <td>0.727417</td>\n",
              "    </tr>\n",
              "    <tr>\n",
              "      <th>2019-12-12 00:30:00</th>\n",
              "      <td>0.0</td>\n",
              "      <td>0.0</td>\n",
              "      <td>98.003998</td>\n",
              "      <td>0</td>\n",
              "      <td>0.415667</td>\n",
              "    </tr>\n",
              "    <tr>\n",
              "      <th>2019-12-12 00:45:00</th>\n",
              "      <td>0.0</td>\n",
              "      <td>0.0</td>\n",
              "      <td>96.216003</td>\n",
              "      <td>0</td>\n",
              "      <td>1.380333</td>\n",
              "    </tr>\n",
              "    <tr>\n",
              "      <th>2019-12-12 01:00:00</th>\n",
              "      <td>0.0</td>\n",
              "      <td>0.0</td>\n",
              "      <td>97.160004</td>\n",
              "      <td>1</td>\n",
              "      <td>2.620333</td>\n",
              "    </tr>\n",
              "  </tbody>\n",
              "</table>\n",
              "</div>\n",
              "      <button class=\"colab-df-convert\" onclick=\"convertToInteractive('df-c37eff33-12e3-4cc8-8fb5-6527a86cd753')\"\n",
              "              title=\"Convert this dataframe to an interactive table.\"\n",
              "              style=\"display:none;\">\n",
              "        \n",
              "  <svg xmlns=\"http://www.w3.org/2000/svg\" height=\"24px\"viewBox=\"0 0 24 24\"\n",
              "       width=\"24px\">\n",
              "    <path d=\"M0 0h24v24H0V0z\" fill=\"none\"/>\n",
              "    <path d=\"M18.56 5.44l.94 2.06.94-2.06 2.06-.94-2.06-.94-.94-2.06-.94 2.06-2.06.94zm-11 1L8.5 8.5l.94-2.06 2.06-.94-2.06-.94L8.5 2.5l-.94 2.06-2.06.94zm10 10l.94 2.06.94-2.06 2.06-.94-2.06-.94-.94-2.06-.94 2.06-2.06.94z\"/><path d=\"M17.41 7.96l-1.37-1.37c-.4-.4-.92-.59-1.43-.59-.52 0-1.04.2-1.43.59L10.3 9.45l-7.72 7.72c-.78.78-.78 2.05 0 2.83L4 21.41c.39.39.9.59 1.41.59.51 0 1.02-.2 1.41-.59l7.78-7.78 2.81-2.81c.8-.78.8-2.07 0-2.86zM5.41 20L4 18.59l7.72-7.72 1.47 1.35L5.41 20z\"/>\n",
              "  </svg>\n",
              "      </button>\n",
              "      \n",
              "  <style>\n",
              "    .colab-df-container {\n",
              "      display:flex;\n",
              "      flex-wrap:wrap;\n",
              "      gap: 12px;\n",
              "    }\n",
              "\n",
              "    .colab-df-convert {\n",
              "      background-color: #E8F0FE;\n",
              "      border: none;\n",
              "      border-radius: 50%;\n",
              "      cursor: pointer;\n",
              "      display: none;\n",
              "      fill: #1967D2;\n",
              "      height: 32px;\n",
              "      padding: 0 0 0 0;\n",
              "      width: 32px;\n",
              "    }\n",
              "\n",
              "    .colab-df-convert:hover {\n",
              "      background-color: #E2EBFA;\n",
              "      box-shadow: 0px 1px 2px rgba(60, 64, 67, 0.3), 0px 1px 3px 1px rgba(60, 64, 67, 0.15);\n",
              "      fill: #174EA6;\n",
              "    }\n",
              "\n",
              "    [theme=dark] .colab-df-convert {\n",
              "      background-color: #3B4455;\n",
              "      fill: #D2E3FC;\n",
              "    }\n",
              "\n",
              "    [theme=dark] .colab-df-convert:hover {\n",
              "      background-color: #434B5C;\n",
              "      box-shadow: 0px 1px 3px 1px rgba(0, 0, 0, 0.15);\n",
              "      filter: drop-shadow(0px 1px 2px rgba(0, 0, 0, 0.3));\n",
              "      fill: #FFFFFF;\n",
              "    }\n",
              "  </style>\n",
              "\n",
              "      <script>\n",
              "        const buttonEl =\n",
              "          document.querySelector('#df-c37eff33-12e3-4cc8-8fb5-6527a86cd753 button.colab-df-convert');\n",
              "        buttonEl.style.display =\n",
              "          google.colab.kernel.accessAllowed ? 'block' : 'none';\n",
              "\n",
              "        async function convertToInteractive(key) {\n",
              "          const element = document.querySelector('#df-c37eff33-12e3-4cc8-8fb5-6527a86cd753');\n",
              "          const dataTable =\n",
              "            await google.colab.kernel.invokeFunction('convertToInteractive',\n",
              "                                                     [key], {});\n",
              "          if (!dataTable) return;\n",
              "\n",
              "          const docLinkHtml = 'Like what you see? Visit the ' +\n",
              "            '<a target=\"_blank\" href=https://colab.research.google.com/notebooks/data_table.ipynb>data table notebook</a>'\n",
              "            + ' to learn more about interactive tables.';\n",
              "          element.innerHTML = '';\n",
              "          dataTable['output_type'] = 'display_data';\n",
              "          await google.colab.output.renderOutput(dataTable, element);\n",
              "          const docLink = document.createElement('div');\n",
              "          docLink.innerHTML = docLinkHtml;\n",
              "          element.appendChild(docLink);\n",
              "        }\n",
              "      </script>\n",
              "    </div>\n",
              "  </div>\n",
              "  "
            ]
          },
          "metadata": {},
          "execution_count": 22
        }
      ]
    },
    {
      "cell_type": "markdown",
      "source": [
        "Graficamos todos los datos con el fin de apreciar de manera general su comportamiento a lo largo del tiempo con la función plot asociada a la librería `Pandas`."
      ],
      "metadata": {
        "id": "kDrBhJFjLbHd"
      }
    },
    {
      "cell_type": "code",
      "source": [
        "features.plot(subplots=True) # Graficamos las columnas de datos para observar su comportamiento"
      ],
      "metadata": {
        "colab": {
          "base_uri": "https://localhost:8080/"
        },
        "id": "WPile_qSzyjF",
        "outputId": "572703f2-f161-4c66-af72-cdedba8c77b4"
      },
      "execution_count": null,
      "outputs": [
        {
          "output_type": "execute_result",
          "data": {
            "text/plain": [
              "array([<matplotlib.axes._subplots.AxesSubplot object at 0x7fe6f0083150>,\n",
              "       <matplotlib.axes._subplots.AxesSubplot object at 0x7fe66e20f690>,\n",
              "       <matplotlib.axes._subplots.AxesSubplot object at 0x7fe66e1a0790>,\n",
              "       <matplotlib.axes._subplots.AxesSubplot object at 0x7fe66b9d5c50>,\n",
              "       <matplotlib.axes._subplots.AxesSubplot object at 0x7fe684109e50>],\n",
              "      dtype=object)"
            ]
          },
          "metadata": {},
          "execution_count": 23
        },
        {
          "output_type": "display_data",
          "data": {
            "text/plain": [
              "<Figure size 576x432 with 5 Axes>"
            ],
            "image/png": "[encoded data removed]"
          },
          "metadata": {
            "needs_background": "light"
          }
        }
      ]
    },
    {
      "cell_type": "markdown",
      "source": [
        "Se convierte el conjunto de datos en un arreglo de `numpy` definiendo la cantidad de datos que se van a utilizar para el proceso y luego se estandarizan con una normalización:\n"
      ],
      "metadata": {
        "id": "ra-PQZij0O6S"
      }
    },
    {
      "cell_type": "markdown",
      "source": [
        "\n",
        "\n",
        "---\n",
        "\n",
        "\n",
        "3_1. **ESCALAMIENTO DE LOS DATOS**\n",
        "\n",
        "\n",
        "---\n"
      ],
      "metadata": {
        "id": "9skD4IpWJP8W"
      }
    },
    {
      "cell_type": "code",
      "source": [
        "if ruta=='https://raw.githubusercontent.com/alvarojd/SolarForecasting/main/DATASETS/INICIAL_LIMPIO.csv':\n",
        "  estandar=data['GHI'].values.reshape(len(data),1)\n",
        "else:\n",
        "  estandar=data['ghi_pyr_1'].values.reshape(len(data),1)\n",
        "scaler = StandardScaler()\n",
        "dataset = scaler.fit_transform(estandar)"
      ],
      "metadata": {
        "id": "zuj4wd8oxBoP"
      },
      "execution_count": null,
      "outputs": []
    },
    {
      "cell_type": "code",
      "source": [
        "TRAIN_SPLIT = int(len(features)*0.8//1) #Definimos la cantidad de datos que se van a usar para el entrenamiento del modelo\n",
        "STEP=1\n",
        "dataset = features.values # Convertimos el dataframe en un arreglo de numpy\n",
        "data_mean = dataset[:TRAIN_SPLIT,0].mean(axis=0) # Se obtiene la media estadistica de los datos\n",
        "data_std = dataset[:TRAIN_SPLIT,0].std(axis=0) # Se obtiene la desviación estandar de los datos\n",
        "\n",
        "dataset = (dataset-data_mean)/data_std #Se normaliza cada dato del arreglo para que todos los valores esten entre -1 y 1"
      ],
      "metadata": {
        "id": "7p9rI0_y0N-b"
      },
      "execution_count": null,
      "outputs": []
    },
    {
      "cell_type": "markdown",
      "source": [
        "\n",
        "\n",
        "---\n",
        "\n",
        "\n",
        "# 4.   **SE DEFINE LA FUNCIÓN QUE SE UTILIZA PARA LA PARTICIÓN DE LOS DATOS EN VENTANAS**\n",
        "\n",
        "--- "
      ],
      "metadata": {
        "id": "xFyRAKQuJvi2"
      }
    },
    {
      "cell_type": "code",
      "source": [
        "#---------------------------------------\n",
        "#CONFIGURACIÓN DE LAS VENTANAS DE DATOS#\n",
        "#---------------------------------------\n",
        "DATASPLIT = 0.8                        #\n",
        "Num_datos_entrada = 96                 #\n",
        "Num_datos_salida = 96                  #\n",
        "#---------------------------------------\n",
        "\n",
        "def ventanas(dataset,xsize,ysize,split,validation= False):\n",
        "  #dataset: Es un array de numpy obtenido a partir del dataframe de pandas, en este están contenidos todos los datos que se utilizarán\n",
        "  #split: porcentaje del dataset a utilizar\n",
        "  #xsize: Número entero, determina el tamaño de la ventana de caracteristicas (Entradas del modelo)\n",
        "  #ysize: Número entero, determina el tamaño de la ventana de etiquetas (Salidas del modelo)\n",
        "  #validation: Si es True, toma el porcentaje restante de los datos como set, de lo contrario toma el porcentaje indicado\n",
        "\n",
        "  if validation!=True: #Se generan los índices para tomar los días exactos para el set de entrenamiento\n",
        "    indexin=int(0)\n",
        "    indexf=int((((len(dataset)*split)//xsize)*xsize))\n",
        "  else: #Se generan los índices para tomar los días exactos para el set de validación\n",
        "    indexin=int((((len(dataset)*split)//xsize)*xsize))\n",
        "    indexf=int(len(dataset))\n",
        "  n=0 # Indexador\n",
        "  x=[] # Lista vacia donde estarán contenidas las ventanas de datos de entrada (Caracteristicas)\n",
        "  y=[] # Lista vacia donde estarán contenidas las ventanas de datos de salida (Etiquetas)\n",
        "  \n",
        "  for i in range(int(((indexf-indexin)/ysize)-1)): #Este ciclo se repite el número de veces como ventanas habrán en un arreglo de datos\n",
        "                                                   # Ejemplo: dataset= [1,2,3,4,5,6]\n",
        "                                                   # indexf=6, indexin=0, xsize=2, ysize=2\n",
        "                                                   # range= (3-1) = 2  <------ Ya que se obtendrán 3 ventanas de datos\n",
        "                                                   # Al resultado se le resta uno para considerar que la ultima ventana tambien contenga datos en \"y\"\n",
        "                                                   \n",
        "    x.append(dataset[n+indexin:n+indexin+xsize].T) #Se agrega a la lista la ventana de datos utilizando la idexación \n",
        "                                                   # Ejemplo: dataset= [1,2,3,4,5,6]\n",
        "                                                   # Primera iteración:\n",
        "                                                   #  x=[[1,2]]\n",
        "                                                   # Segunda iteración:\n",
        "                                                   #  x=[[1,2],[3,4]]\n",
        "\n",
        "    y.append(dataset[n+indexin+xsize:n+indexin+xsize+ysize].T[0])\n",
        "                                                   # Siguiendo el ejemplo anterior\n",
        "                                                   #  y=[[3,4]]\n",
        "                                                   # Segunda iteración:\n",
        "                                                   #  y=[[3,4],[5,6]]\n",
        "    \n",
        "                                                   # Siguiento el ejemplo, los las ventanas listas para entrar al modelo quedan de la siguiente manera\n",
        "                                                   # x = [[1,2],[3,4]]\n",
        "                                                   # y = [[3,4],[5,6]]\n",
        "\n",
        "    n+=ysize # Se suma al indexador el tamaño de la ventana\n",
        "    \n",
        "  return np.array(x),np.array(y)\n",
        "\n",
        "x_train1, y_train1= ventanas(dataset, xsize= Num_datos_entrada, ysize= Num_datos_salida, split = DATASPLIT)\n",
        "x_val1,y_val1=ventanas(dataset, xsize= Num_datos_entrada, ysize= Num_datos_salida, split = DATASPLIT, validation=True)\n"
      ],
      "metadata": {
        "id": "hst4b4FfWjNB"
      },
      "execution_count": null,
      "outputs": []
    },
    {
      "cell_type": "markdown",
      "source": [
        "\n",
        "\n",
        "\n",
        "---\n",
        "\n",
        "\n",
        "# 5.   **FUNCIÓN PARA VISUALIZAR LOS RESULTADOS OBTENIDOS**\n",
        "\n",
        "\n",
        "---\n"
      ],
      "metadata": {
        "id": "KKB7Sp7VlUcy"
      }
    },
    {
      "cell_type": "markdown",
      "source": [
        "La siguiente de función se utiliza para generar gráficos a partir de una ventana de tiempo como las que se definieron anteriormente, esta se utilizará para mostrar:\n",
        "\n",
        "*   La ventana de tiempo utilizada para la predicción\n",
        "*   El valor real de los datos futuros tomado del set de validación\n",
        "*   El valor de las predicciones que arroja la red neuronal\n",
        "\n"
      ],
      "metadata": {
        "id": "WFyHZ_DXhIUD"
      }
    },
    {
      "cell_type": "code",
      "source": [
        "def create_time_steps(length): # Función que crea un array en un rango determinado por el tamaño de la ventana de datos\n",
        "    return list(range(-length, 0))\n",
        "\n",
        "# history: Un arreglo con la ventana de datos usada para la predicción\n",
        "# true_future: Arreglo con los datos conocidos que deberia arrojar la predicción \n",
        "# prediction: Arreglo con las predicciones obtenidas\n",
        "\n",
        "def multi_step_plot(history, true_future, prediction): \n",
        "    plt.figure(figsize=(12, 6)) # Se define el tamaño de la figura\n",
        "    num_in = create_time_steps(len(history)) #Tamaño de la curva de datos pasados\n",
        "    num_out = len(true_future) # Tamaño de la curva de datos futuros\n",
        "    plt.plot(num_in, history, label='History') # Graficamos datos pasados\n",
        "    plt.plot(np.arange(num_out)/STEP, (true_future), 'y--',\n",
        "           label='True Future') #Graficamos datos furutos\n",
        "    if prediction.any(): # Si se ingresan datos sobre las predicciones\n",
        "        plt.plot(np.arange(num_out)/STEP, (prediction), 'r--', #Grafica tambien las predicciones\n",
        "                 label='Predicted Future')\n",
        "    plt.legend(loc='upper left') # Ajustes de la grafica\n",
        "    plt.grid()\n",
        "    plt.show() # Se muestra la grafica"
      ],
      "metadata": {
        "id": "iVUXWSII2QAm"
      },
      "execution_count": null,
      "outputs": []
    },
    {
      "cell_type": "markdown",
      "source": [
        "---\n",
        " # 6. **CREACIÓN Y ENTRENAMIENTO DEL MODELO**\n",
        " ---"
      ],
      "metadata": {
        "id": "51kGUnaHliwi"
      }
    },
    {
      "cell_type": "markdown",
      "source": [
        "**GRU**: Es una parte de un modelo de red neuronal recurrente, que ayuda a ajustar los pesos de las entradas para resolver el problema del gradiente de desaparición, que es uno de los problemas que tienen las redes neuronales recurrentes el cual no les permite mantener la información a medida que se pasa de una red neuronal a otra.\n",
        "\n",
        "En las siguientes celdas se va a definir el modelo de ML que se utilizará para realizar las predicciones buscadas, este modelo consta de una capa de entrada, y dos capas intermedias de neuronas tipo LSTM, con una respectiva función de activación.\n",
        "\n",
        "![RedNeuronalArtificial.png](https://upload.wikimedia.org/wikipedia/commons/thumb/5/5f/Gated_Recurrent_Unit.svg/470px-Gated_Recurrent_Unit.svg.png)\n",
        "\n",
        "Fig 1. [Diagrama de una red GRU](https://es.wikipedia.org/wiki/Perceptr%C3%B3n_multicapa)\n",
        "\n",
        "La cantidad de neuronas ajustada de forma manual para maximizar su precisión de entrenamiento y una capa de salida con n neuronas con n datos de predicción buscados.\n",
        "\n",
        "Además se compila el modelo y dentro de dicha compilación estan incluidas configuraciónes, donde las configuraciones son:\n",
        "\n",
        "*   **optimizer**: Optimizador utilizado\n",
        "*   **loss**: Métrica utilizada para determinar las perdidas del modelo\n",
        "*   **metrics**: Guarda los valores de las metricas en cada epoca de entrenamiento\n",
        "\n",
        "[Referencia](https://es.frwiki.wiki/wiki/R%C3%A9seau_de_neurones_r%C3%A9currents)"
      ],
      "metadata": {
        "id": "Mgi-2m9nrIOD"
      }
    },
    {
      "cell_type": "markdown",
      "source": [
        "**MODELO 1**"
      ],
      "metadata": {
        "id": "XQioNxEWWf4k"
      }
    },
    {
      "cell_type": "code",
      "source": [
        "class myCallback(tf.keras.callbacks.Callback):\n",
        "  def on_epoch_end(self, epoch, logs={}):\n",
        "    if(logs.get('loss')<0.10):\n",
        "      print(\"\\nReached less than 0.02 losses so cancelling training!\")\n",
        "      self.model.stop_training = True\n",
        "callbacks = myCallback()\n",
        "early_stopping_cb = tf.keras.callbacks.EarlyStopping(patience=70)"
      ],
      "metadata": {
        "id": "51l_o_tYL5np"
      },
      "execution_count": null,
      "outputs": []
    },
    {
      "cell_type": "code",
      "source": [
        "batch_size=1"
      ],
      "metadata": {
        "id": "bdakIx3D-H_h"
      },
      "execution_count": null,
      "outputs": []
    },
    {
      "cell_type": "code",
      "source": [
        "model = tf.keras.models.Sequential([\n",
        "    tf.keras.layers.Conv1D(filters=32, kernel_size=3,padding=\"causal\",activation=\"tanh\", batch_input_shape= (batch_size, x_train1.shape[1], x_train1.shape[2])),\n",
        "    tf.keras.layers.GRU(100, activation=\"tanh\", stateful= True, dropout=0.2, return_sequences=True),\n",
        "    tf.keras.layers.GRU(150, activation=\"tanh\", stateful= True, dropout=0.2),\n",
        "    tf.keras.layers.Dense(96)\n",
        "])\n",
        "\n",
        "model.compile(optimizer='adam', loss='mean_absolute_error')# Compilamos el modelo y definimos los ajustes ya explicados"
      ],
      "metadata": {
        "id": "aW94mxQrh4Ir"
      },
      "execution_count": null,
      "outputs": []
    },
    {
      "cell_type": "code",
      "source": [
        "history = model.fit(x_train1, y_train1, epochs=300, verbose=1, validation_data=(x_val1, y_val1), batch_size=batch_size, shuffle=False, callbacks=[early_stopping_cb, callbacks])"
      ],
      "metadata": {
        "id": "mYs6HdsG-luv",
        "colab": {
          "base_uri": "https://localhost:8080/"
        },
        "outputId": "561377f1-75ea-4faf-9eb1-1dda6a60b9af"
      },
      "execution_count": null,
      "outputs": [
        {
          "output_type": "stream",
          "name": "stdout",
          "text": [
            "Epoch 1/300\n",
            "307/307 [==============================] - 4s 7ms/step - loss: 0.1925 - val_loss: 0.1193\n",
            "Epoch 2/300\n",
            "307/307 [==============================] - 1s 5ms/step - loss: 0.1528 - val_loss: 0.1134\n",
            "Epoch 3/300\n",
            "307/307 [==============================] - 2s 5ms/step - loss: 0.1432 - val_loss: 0.1111\n",
            "Epoch 4/300\n",
            "307/307 [==============================] - 1s 5ms/step - loss: 0.1390 - val_loss: 0.1076\n",
            "Epoch 5/300\n",
            "307/307 [==============================] - 2s 5ms/step - loss: 0.1362 - val_loss: 0.1008\n",
            "Epoch 6/300\n",
            "307/307 [==============================] - 1s 5ms/step - loss: 0.1345 - val_loss: 0.1001\n",
            "Epoch 7/300\n",
            "307/307 [==============================] - 1s 5ms/step - loss: 0.1342 - val_loss: 0.0997\n",
            "Epoch 8/300\n",
            "307/307 [==============================] - 1s 5ms/step - loss: 0.1339 - val_loss: 0.1010\n",
            "Epoch 9/300\n",
            "307/307 [==============================] - 1s 5ms/step - loss: 0.1340 - val_loss: 0.0995\n",
            "Epoch 10/300\n",
            "307/307 [==============================] - 2s 5ms/step - loss: 0.1341 - val_loss: 0.0989\n",
            "Epoch 11/300\n",
            "307/307 [==============================] - 2s 5ms/step - loss: 0.1338 - val_loss: 0.0994\n",
            "Epoch 12/300\n",
            "307/307 [==============================] - 1s 5ms/step - loss: 0.1337 - val_loss: 0.1000\n",
            "Epoch 13/300\n",
            "307/307 [==============================] - 1s 5ms/step - loss: 0.1338 - val_loss: 0.0983\n",
            "Epoch 14/300\n",
            "307/307 [==============================] - 1s 5ms/step - loss: 0.1341 - val_loss: 0.0990\n",
            "Epoch 15/300\n",
            "307/307 [==============================] - 2s 5ms/step - loss: 0.1339 - val_loss: 0.0995\n",
            "Epoch 16/300\n",
            "307/307 [==============================] - 2s 5ms/step - loss: 0.1343 - val_loss: 0.0995\n",
            "Epoch 17/300\n",
            "307/307 [==============================] - 2s 5ms/step - loss: 0.1339 - val_loss: 0.0993\n",
            "Epoch 18/300\n",
            "307/307 [==============================] - 2s 5ms/step - loss: 0.1336 - val_loss: 0.0978\n",
            "Epoch 19/300\n",
            "307/307 [==============================] - 1s 5ms/step - loss: 0.1338 - val_loss: 0.0987\n",
            "Epoch 20/300\n",
            "307/307 [==============================] - 2s 5ms/step - loss: 0.1335 - val_loss: 0.0985\n",
            "Epoch 21/300\n",
            "307/307 [==============================] - 1s 5ms/step - loss: 0.1331 - val_loss: 0.0989\n",
            "Epoch 22/300\n",
            "307/307 [==============================] - 1s 5ms/step - loss: 0.1335 - val_loss: 0.0974\n",
            "Epoch 23/300\n",
            "307/307 [==============================] - 1s 5ms/step - loss: 0.1335 - val_loss: 0.0983\n",
            "Epoch 24/300\n",
            "307/307 [==============================] - 2s 5ms/step - loss: 0.1339 - val_loss: 0.0966\n",
            "Epoch 25/300\n",
            "307/307 [==============================] - 2s 5ms/step - loss: 0.1344 - val_loss: 0.0972\n",
            "Epoch 26/300\n",
            "307/307 [==============================] - 1s 5ms/step - loss: 0.1344 - val_loss: 0.0970\n",
            "Epoch 27/300\n",
            "307/307 [==============================] - 2s 5ms/step - loss: 0.1348 - val_loss: 0.0971\n",
            "Epoch 28/300\n",
            "307/307 [==============================] - 2s 5ms/step - loss: 0.1347 - val_loss: 0.0967\n",
            "Epoch 29/300\n",
            "307/307 [==============================] - 1s 5ms/step - loss: 0.1350 - val_loss: 0.0966\n",
            "Epoch 30/300\n",
            "307/307 [==============================] - 1s 5ms/step - loss: 0.1352 - val_loss: 0.0966\n",
            "Epoch 31/300\n",
            "307/307 [==============================] - 1s 5ms/step - loss: 0.1353 - val_loss: 0.0959\n",
            "Epoch 32/300\n",
            "307/307 [==============================] - 2s 5ms/step - loss: 0.1352 - val_loss: 0.0968\n",
            "Epoch 33/300\n",
            "307/307 [==============================] - 2s 5ms/step - loss: 0.1357 - val_loss: 0.0966\n",
            "Epoch 34/300\n",
            "307/307 [==============================] - 2s 5ms/step - loss: 0.1356 - val_loss: 0.0964\n",
            "Epoch 35/300\n",
            "307/307 [==============================] - 2s 5ms/step - loss: 0.1354 - val_loss: 0.0960\n",
            "Epoch 36/300\n",
            "307/307 [==============================] - 1s 5ms/step - loss: 0.1354 - val_loss: 0.0973\n",
            "Epoch 37/300\n",
            "307/307 [==============================] - 1s 5ms/step - loss: 0.1355 - val_loss: 0.0959\n",
            "Epoch 38/300\n",
            "307/307 [==============================] - 1s 5ms/step - loss: 0.1353 - val_loss: 0.0961\n",
            "Epoch 39/300\n",
            "307/307 [==============================] - 2s 5ms/step - loss: 0.1354 - val_loss: 0.0956\n",
            "Epoch 40/300\n",
            "307/307 [==============================] - 1s 5ms/step - loss: 0.1357 - val_loss: 0.0956\n",
            "Epoch 41/300\n",
            "307/307 [==============================] - 1s 5ms/step - loss: 0.1355 - val_loss: 0.0963\n",
            "Epoch 42/300\n",
            "307/307 [==============================] - 2s 5ms/step - loss: 0.1354 - val_loss: 0.0964\n",
            "Epoch 43/300\n",
            "307/307 [==============================] - 2s 5ms/step - loss: 0.1360 - val_loss: 0.0962\n",
            "Epoch 44/300\n",
            "307/307 [==============================] - 2s 5ms/step - loss: 0.1358 - val_loss: 0.0960\n",
            "Epoch 45/300\n",
            "307/307 [==============================] - 1s 5ms/step - loss: 0.1357 - val_loss: 0.0963\n",
            "Epoch 46/300\n",
            "307/307 [==============================] - 1s 5ms/step - loss: 0.1356 - val_loss: 0.0966\n",
            "Epoch 47/300\n",
            "307/307 [==============================] - 1s 5ms/step - loss: 0.1355 - val_loss: 0.0956\n",
            "Epoch 48/300\n",
            "307/307 [==============================] - 1s 5ms/step - loss: 0.1353 - val_loss: 0.0964\n",
            "Epoch 49/300\n",
            "307/307 [==============================] - 2s 5ms/step - loss: 0.1356 - val_loss: 0.0967\n",
            "Epoch 50/300\n",
            "307/307 [==============================] - 2s 5ms/step - loss: 0.1353 - val_loss: 0.0968\n",
            "Epoch 51/300\n",
            "307/307 [==============================] - 2s 5ms/step - loss: 0.1352 - val_loss: 0.0958\n",
            "Epoch 52/300\n",
            "307/307 [==============================] - 2s 5ms/step - loss: 0.1354 - val_loss: 0.0962\n",
            "Epoch 53/300\n",
            "307/307 [==============================] - 1s 5ms/step - loss: 0.1357 - val_loss: 0.0962\n",
            "Epoch 54/300\n",
            "307/307 [==============================] - 1s 5ms/step - loss: 0.1353 - val_loss: 0.0961\n",
            "Epoch 55/300\n",
            "307/307 [==============================] - 2s 5ms/step - loss: 0.1358 - val_loss: 0.0963\n",
            "Epoch 56/300\n",
            "307/307 [==============================] - 1s 5ms/step - loss: 0.1357 - val_loss: 0.0960\n",
            "Epoch 57/300\n",
            "307/307 [==============================] - 1s 5ms/step - loss: 0.1356 - val_loss: 0.0969\n",
            "Epoch 58/300\n",
            "307/307 [==============================] - 2s 5ms/step - loss: 0.1359 - val_loss: 0.0962\n",
            "Epoch 59/300\n",
            "307/307 [==============================] - 1s 5ms/step - loss: 0.1354 - val_loss: 0.0964\n",
            "Epoch 60/300\n",
            "307/307 [==============================] - 1s 5ms/step - loss: 0.1357 - val_loss: 0.0965\n",
            "Epoch 61/300\n",
            "307/307 [==============================] - 1s 5ms/step - loss: 0.1356 - val_loss: 0.0961\n",
            "Epoch 62/300\n",
            "307/307 [==============================] - 1s 5ms/step - loss: 0.1355 - val_loss: 0.0963\n",
            "Epoch 63/300\n",
            "307/307 [==============================] - 2s 5ms/step - loss: 0.1357 - val_loss: 0.0967\n",
            "Epoch 64/300\n",
            "307/307 [==============================] - 2s 5ms/step - loss: 0.1343 - val_loss: 0.0966\n",
            "Epoch 65/300\n",
            "307/307 [==============================] - 1s 5ms/step - loss: 0.1348 - val_loss: 0.0964\n",
            "Epoch 66/300\n",
            "307/307 [==============================] - 2s 5ms/step - loss: 0.1351 - val_loss: 0.0966\n",
            "Epoch 67/300\n",
            "307/307 [==============================] - 1s 5ms/step - loss: 0.1347 - val_loss: 0.0968\n",
            "Epoch 68/300\n",
            "307/307 [==============================] - 1s 5ms/step - loss: 0.1350 - val_loss: 0.0969\n",
            "Epoch 69/300\n",
            "307/307 [==============================] - 1s 5ms/step - loss: 0.1347 - val_loss: 0.0971\n",
            "Epoch 70/300\n",
            "307/307 [==============================] - 1s 5ms/step - loss: 0.1352 - val_loss: 0.0975\n",
            "Epoch 71/300\n",
            "307/307 [==============================] - 2s 5ms/step - loss: 0.1353 - val_loss: 0.0988\n",
            "Epoch 72/300\n",
            "307/307 [==============================] - 1s 5ms/step - loss: 0.1351 - val_loss: 0.0971\n",
            "Epoch 73/300\n",
            "307/307 [==============================] - 1s 5ms/step - loss: 0.1349 - val_loss: 0.0976\n",
            "Epoch 74/300\n",
            "307/307 [==============================] - 1s 5ms/step - loss: 0.1347 - val_loss: 0.0978\n",
            "Epoch 75/300\n",
            "307/307 [==============================] - 2s 5ms/step - loss: 0.1348 - val_loss: 0.0984\n",
            "Epoch 76/300\n",
            "307/307 [==============================] - 1s 5ms/step - loss: 0.1356 - val_loss: 0.0980\n",
            "Epoch 77/300\n",
            "307/307 [==============================] - 2s 5ms/step - loss: 0.1348 - val_loss: 0.0975\n",
            "Epoch 78/300\n",
            "307/307 [==============================] - 2s 5ms/step - loss: 0.1345 - val_loss: 0.0964\n",
            "Epoch 79/300\n",
            "307/307 [==============================] - 2s 5ms/step - loss: 0.1356 - val_loss: 0.0969\n",
            "Epoch 80/300\n",
            "307/307 [==============================] - 2s 6ms/step - loss: 0.1344 - val_loss: 0.0974\n",
            "Epoch 81/300\n",
            "307/307 [==============================] - 1s 5ms/step - loss: 0.1343 - val_loss: 0.0990\n",
            "Epoch 82/300\n",
            "307/307 [==============================] - 2s 5ms/step - loss: 0.1342 - val_loss: 0.0986\n",
            "Epoch 83/300\n",
            "307/307 [==============================] - 2s 5ms/step - loss: 0.1351 - val_loss: 0.0965\n",
            "Epoch 84/300\n",
            "307/307 [==============================] - 2s 5ms/step - loss: 0.1342 - val_loss: 0.0981\n",
            "Epoch 85/300\n",
            "307/307 [==============================] - 2s 5ms/step - loss: 0.1347 - val_loss: 0.0972\n",
            "Epoch 86/300\n",
            "307/307 [==============================] - 1s 5ms/step - loss: 0.1348 - val_loss: 0.0973\n",
            "Epoch 87/300\n",
            "307/307 [==============================] - 2s 5ms/step - loss: 0.1348 - val_loss: 0.0972\n",
            "Epoch 88/300\n",
            "307/307 [==============================] - 2s 5ms/step - loss: 0.1354 - val_loss: 0.0997\n",
            "Epoch 89/300\n",
            "307/307 [==============================] - 1s 5ms/step - loss: 0.1350 - val_loss: 0.0968\n",
            "Epoch 90/300\n",
            "307/307 [==============================] - 2s 5ms/step - loss: 0.1357 - val_loss: 0.0987\n",
            "Epoch 91/300\n",
            "307/307 [==============================] - 1s 5ms/step - loss: 0.1355 - val_loss: 0.0967\n",
            "Epoch 92/300\n",
            "307/307 [==============================] - 1s 5ms/step - loss: 0.1349 - val_loss: 0.0985\n",
            "Epoch 93/300\n",
            "307/307 [==============================] - 1s 5ms/step - loss: 0.1354 - val_loss: 0.0989\n",
            "Epoch 94/300\n",
            "307/307 [==============================] - 1s 5ms/step - loss: 0.1349 - val_loss: 0.0969\n",
            "Epoch 95/300\n",
            "307/307 [==============================] - 1s 5ms/step - loss: 0.1358 - val_loss: 0.0975\n",
            "Epoch 96/300\n",
            "307/307 [==============================] - 2s 5ms/step - loss: 0.1349 - val_loss: 0.0982\n",
            "Epoch 97/300\n",
            "307/307 [==============================] - 1s 5ms/step - loss: 0.1347 - val_loss: 0.0988\n",
            "Epoch 98/300\n",
            "307/307 [==============================] - 1s 5ms/step - loss: 0.1353 - val_loss: 0.0975\n",
            "Epoch 99/300\n",
            "307/307 [==============================] - 1s 5ms/step - loss: 0.1360 - val_loss: 0.0987\n",
            "Epoch 100/300\n",
            "307/307 [==============================] - 2s 5ms/step - loss: 0.1361 - val_loss: 0.0984\n",
            "Epoch 101/300\n",
            "307/307 [==============================] - 2s 5ms/step - loss: 0.1366 - val_loss: 0.0977\n",
            "Epoch 102/300\n",
            "307/307 [==============================] - 2s 5ms/step - loss: 0.1365 - val_loss: 0.0986\n",
            "Epoch 103/300\n",
            "307/307 [==============================] - 1s 5ms/step - loss: 0.1362 - val_loss: 0.0970\n",
            "Epoch 104/300\n",
            "307/307 [==============================] - 1s 5ms/step - loss: 0.1374 - val_loss: 0.0986\n",
            "Epoch 105/300\n",
            "307/307 [==============================] - 1s 5ms/step - loss: 0.1365 - val_loss: 0.0975\n",
            "Epoch 106/300\n",
            "307/307 [==============================] - 2s 5ms/step - loss: 0.1358 - val_loss: 0.0971\n",
            "Epoch 107/300\n",
            "307/307 [==============================] - 2s 5ms/step - loss: 0.1361 - val_loss: 0.0991\n",
            "Epoch 108/300\n",
            "307/307 [==============================] - 2s 5ms/step - loss: 0.1356 - val_loss: 0.0974\n",
            "Epoch 109/300\n",
            "307/307 [==============================] - 1s 5ms/step - loss: 0.1362 - val_loss: 0.0973\n",
            "Epoch 110/300\n",
            "307/307 [==============================] - 2s 5ms/step - loss: 0.1361 - val_loss: 0.0973\n"
          ]
        }
      ]
    },
    {
      "cell_type": "markdown",
      "source": [
        "\n",
        "---\n",
        "\n",
        "\n",
        "# 7. **RESULTADOS Y ANÁLISIS** 📃\n",
        "\n",
        "\n",
        "---"
      ],
      "metadata": {
        "id": "o3o-KJ6osKZv"
      }
    },
    {
      "cell_type": "markdown",
      "source": [
        "En esta sección del codigo se observarán y analizarán los resultados obtenidos realizando predicciones con el modelo que generamos.  ✌"
      ],
      "metadata": {
        "id": "J8ZCWOc5syCe"
      }
    },
    {
      "cell_type": "code",
      "source": [
        "def metricas(history):\n",
        "  loss     = history.history[    'loss' ]\n",
        "  val_loss = history.history['val_loss' ]\n",
        "\n",
        "\n",
        "  epochs   = range(1,len(loss)+1,1)\n",
        "  plt.plot ( epochs,     loss, 'r--', label='Training loss' )\n",
        "  plt.plot ( epochs, val_loss ,  'b', label='Validation loss' )\n",
        "  plt.gca().xaxis.set_major_locator(mpl.ticker.MaxNLocator(integer=True))\n",
        "  plt.title ('Training and Validation losses'   )\n",
        "  plt.ylabel('Loss')\n",
        "  plt.xlabel('Epochs')\n",
        "  plt.grid(True)\n",
        "\n",
        "  plt.legend()\n",
        "  plt.figure() \n",
        "\n",
        "metricas(history)"
      ],
      "metadata": {
        "id": "5VnPnQuCMnqA",
        "colab": {
          "base_uri": "https://localhost:8080/",
          "height": 421
        },
        "outputId": "21028155-0bcf-4577-b5d5-0a227f5b67d6"
      },
      "execution_count": null,
      "outputs": [
        {
          "output_type": "display_data",
          "data": {
            "text/plain": [
              "<Figure size 576x432 with 1 Axes>"
            ],
            "image/png": "[encoded data removed]"
          },
          "metadata": {
            "needs_background": "light"
          }
        },
        {
          "output_type": "display_data",
          "data": {
            "text/plain": [
              "<Figure size 576x432 with 0 Axes>"
            ]
          },
          "metadata": {}
        }
      ]
    },
    {
      "cell_type": "code",
      "source": [
        "n=0\n",
        "MAPE = []\n",
        "MAE = []\n",
        "RMSE = []\n",
        "for i in range(len(x_train1)):\n",
        "  xt= x_train1[n][0]\n",
        "  yt= y_train1[n]\n",
        "  y=model.predict(np.array([x_train1[n]]))[0]\n",
        "  xt= scaler.inverse_transform(xt.reshape((96,1))).reshape((1,96))\n",
        "  yt= scaler.inverse_transform(yt.reshape((96,1))).reshape((1,96)) \n",
        "  y=scaler.inverse_transform(y.reshape((96,1))).reshape((1,96))\n",
        "  mape = np.divide(abs(yt-y), yt, out=np.zeros_like(abs(yt-y)), where=abs(yt)>=1).mean()\n",
        "  mae = mean_absolute_error(yt,y)\n",
        "  rmse = mean_squared_error(yt,y)**0.5\n",
        "\n",
        "  MAPE.append(mape)\n",
        "  MAE.append(mae)\n",
        "  RMSE.append(rmse)\n",
        "  n+=1\n",
        "tMAPE =np.array(MAPE).mean()\n",
        "tMAE =np.array(MAE).mean()\n",
        "tRMSE =np.array(RMSE).mean()\n",
        "\n",
        "n=0\n",
        "MAPE = []\n",
        "MAE = []\n",
        "RMSE = []\n",
        "for i in range(len(x_val1)):\n",
        "  xt= x_val1[n][0]\n",
        "  yt= y_val1[n]\n",
        "  y=model.predict(np.array([x_val1[n]]))[0]\n",
        "  xt= scaler.inverse_transform(xt.reshape((96,1))).reshape((1,96))\n",
        "  yt= scaler.inverse_transform(yt.reshape((96,1))).reshape((1,96)) \n",
        "  y=scaler.inverse_transform(y.reshape((96,1))).reshape((1,96))\n",
        "  mape = np.divide(abs(yt-y), yt, out=np.zeros_like(abs(yt-y)), where=abs(yt)>=1).mean()\n",
        "  mae = mean_absolute_error(yt,y)\n",
        "  rmse = mean_squared_error(yt,y)**0.5\n",
        "\n",
        "  MAPE.append(mape)\n",
        "  MAE.append(mae)\n",
        "  RMSE.append(rmse)\n",
        "  n+=1\n",
        "  \n",
        "vMAPE =np.array(MAPE).mean()\n",
        "vMAE =np.array(MAE).mean()\n",
        "vRMSE =np.array(RMSE).mean()"
      ],
      "metadata": {
        "id": "3uxnxKI7xbel"
      },
      "execution_count": null,
      "outputs": []
    },
    {
      "cell_type": "code",
      "source": [
        "print(\"----------------------------------\")\n",
        "print(\"|  MAE   |   MAPE[%] |       RMSE  |    <-------- Promedio de errores del set completo de entrenamiento\")\n",
        "print(\"----------------------------------\")\n",
        "print(\"%9.4f%12.4f%12.4f\"%(tMAE,tMAPE,tRMSE))\n",
        "print(\"----------------------------------\")\n",
        "print(\"|  MAE   |   MAPE[%] |       RMSE  |    <-------- Promedio de errores del set completo de validación\")\n",
        "print(\"----------------------------------\")\n",
        "print(\"%9.4f%12.4f%12.4f\"%(vMAE,vMAPE,vRMSE))\n",
        "print(\"----------------------------------\")"
      ],
      "metadata": {
        "colab": {
          "base_uri": "https://localhost:8080/"
        },
        "id": "ZoooOHrpxcmg",
        "outputId": "790bd659-87ed-48dd-d251-aa4bb70bf143"
      },
      "execution_count": null,
      "outputs": [
        {
          "output_type": "stream",
          "name": "stdout",
          "text": [
            "----------------------------------\n",
            "|  MAE   |   MAPE[%] |       RMSE  |    <-------- Promedio de errores del set completo de entrenamiento\n",
            "----------------------------------\n",
            "  75.6761      0.3918    126.1827\n",
            "----------------------------------\n",
            "|  MAE   |   MAPE[%] |       RMSE  |    <-------- Promedio de errores del set completo de validación\n",
            "----------------------------------\n",
            "  44.0617      0.1672     78.3869\n",
            "----------------------------------\n"
          ]
        }
      ]
    },
    {
      "cell_type": "markdown",
      "source": [
        "----------------------------------\n",
        "|  MAE   |   MAPE[%] |       RMSE  |    <-------- Promedio de errores del set completo de entrenamiento\n",
        "----------------------------------\n",
        "  63.1793     -1.2446     95.1978\n",
        "----------------------------------\n",
        "|  MAE   |   MAPE[%] |       RMSE  |    <-------- Promedio de errores del set completo de validación\n",
        "----------------------------------\n",
        "  59.2766     -1.1095     92.0259\n",
        "----------------------------------"
      ],
      "metadata": {
        "id": "lBt0Yk35wNvd"
      }
    },
    {
      "cell_type": "markdown",
      "source": [
        "**CON LOS DATOS DE ENTRENAMIENTO**"
      ],
      "metadata": {
        "id": "GNz0gQQkpjdp"
      }
    },
    {
      "cell_type": "code",
      "source": [
        "STEP = 1\n",
        "n=0\n",
        "for i in range(1):\n",
        "  xt= x_train1[n][0]\n",
        "  yt= y_train1[n]\n",
        "  y=model.predict(np.array([x_train1[n]]))[0]\n",
        "  mae= abs((y-yt).mean())\n",
        "  xt= scaler.inverse_transform(xt.reshape((96,1))).reshape((1,96))\n",
        "  yt= scaler.inverse_transform(yt.reshape((96,1))).reshape((1,96)) \n",
        "  y=scaler.inverse_transform(y.reshape((96,1))).reshape((1,96))\n",
        "\n",
        "  multi_step_plot(xt[0], yt[0], y[0])\n",
        "  print('El MAPE para un horizonte de 24h es:',mae*100,'%')\n",
        "  n+=1"
      ],
      "metadata": {
        "id": "BRAFqrQzeCf6",
        "colab": {
          "base_uri": "https://localhost:8080/",
          "height": 391
        },
        "outputId": "a5e0ec68-c0ef-4388-eda4-7d0eb7462b39"
      },
      "execution_count": null,
      "outputs": [
        {
          "output_type": "display_data",
          "data": {
            "text/plain": [
              "<Figure size 864x432 with 1 Axes>"
            ],
            "image/png": "[encoded data removed]"
          },
          "metadata": {
            "needs_background": "light"
          }
        },
        {
          "output_type": "stream",
          "name": "stdout",
          "text": [
            "El MAPE para un horizonte de 24h es: 3.4498118416858654 %\n"
          ]
        }
      ]
    },
    {
      "cell_type": "markdown",
      "source": [
        "**CON LOS DATOS DE VALIDACIÓN**"
      ],
      "metadata": {
        "id": "4-QwbjCwppLn"
      }
    },
    {
      "cell_type": "code",
      "source": [
        "STEP = 1\n",
        "n=0\n",
        "for i in range(1):\n",
        "  xt= x_val1[n][0]\n",
        "  yt= y_val1[n]\n",
        "  y=model.predict(np.array([x_val1[n]]))[0]\n",
        "  mae= abs((y-yt).mean())\n",
        "  xt= scaler.inverse_transform(xt.reshape((96,1))).reshape((1,96))\n",
        "  yt= scaler.inverse_transform(yt.reshape((96,1))).reshape((1,96)) \n",
        "  y=scaler.inverse_transform(y.reshape((96,1))).reshape((1,96))\n",
        "\n",
        "  multi_step_plot(xt[0], yt[0], y[0])\n",
        "  print('El MAPE para un horizonte de 24h es:',mae*100,'%')\n",
        "  n+=1"
      ],
      "metadata": {
        "colab": {
          "base_uri": "https://localhost:8080/",
          "height": 391
        },
        "id": "elCuoNdjlHXB",
        "outputId": "f04b2063-34fd-46d6-f82c-9cced4880b36"
      },
      "execution_count": null,
      "outputs": [
        {
          "output_type": "display_data",
          "data": {
            "text/plain": [
              "<Figure size 864x432 with 1 Axes>"
            ],
            "image/png": "[encoded data removed]"
          },
          "metadata": {
            "needs_background": "light"
          }
        },
        {
          "output_type": "stream",
          "name": "stdout",
          "text": [
            "El MAPE para un horizonte de 24h es: 4.538215822300618 %\n"
          ]
        }
      ]
    },
    {
      "cell_type": "code",
      "source": [
        ""
      ],
      "metadata": {
        "id": "i5GtMLSboa0p"
      },
      "execution_count": null,
      "outputs": []
    }
  ]
}